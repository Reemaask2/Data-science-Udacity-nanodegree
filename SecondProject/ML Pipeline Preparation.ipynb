{
 "cells": [
  {
   "cell_type": "markdown",
   "metadata": {},
   "source": [
    "# ML Pipeline Preparation\n",
    "Follow the instructions below to help you create your ML pipeline.\n",
    "### 1. Import libraries and load data from database.\n",
    "- Import Python libraries\n",
    "- Load dataset from database with [`read_sql_table`](https://pandas.pydata.org/pandas-docs/stable/generated/pandas.read_sql_table.html)\n",
    "- Define feature and target variables X and Y"
   ]
  },
  {
   "cell_type": "code",
   "execution_count": 1,
   "metadata": {
    "scrolled": false
   },
   "outputs": [
    {
     "name": "stdout",
     "output_type": "stream",
     "text": [
      "[nltk_data] Downloading package punkt to /root/nltk_data...\n",
      "[nltk_data]   Unzipping tokenizers/punkt.zip.\n",
      "[nltk_data] Downloading package wordnet to /root/nltk_data...\n",
      "[nltk_data] Downloading package stopwords to /root/nltk_data...\n",
      "[nltk_data]   Unzipping corpora/stopwords.zip.\n"
     ]
    }
   ],
   "source": [
    "import sys\n",
    "import pandas as pd\n",
    "import numpy as np\n",
    "import pickle\n",
    "from sqlalchemy import create_engine\n",
    "import nltk\n",
    "nltk.download(['punkt', 'wordnet', 'stopwords'])\n",
    "from nltk.tokenize import word_tokenize\n",
    "from nltk.corpus import stopwords\n",
    "from nltk.stem import WordNetLemmatizer\n",
    "from sklearn.pipeline import Pipeline\n",
    "from sklearn.feature_extraction.text import CountVectorizer, TfidfTransformer\n",
    "from sklearn.multioutput import MultiOutputClassifier\n",
    "from sklearn.ensemble import RandomForestClassifier\n",
    "from sklearn.model_selection import train_test_split, GridSearchCV\n",
    "from sklearn.metrics import classification_report, accuracy_score, make_scorer\n",
    "import re  \n",
    "\n"
   ]
  },
  {
   "cell_type": "code",
   "execution_count": 24,
   "metadata": {},
   "outputs": [
    {
     "name": "stdout",
     "output_type": "stream",
     "text": [
      "DATABASE: DisasterResponse.db\n"
     ]
    }
   ],
   "source": [
    "print(f\"DATABASE: {'DisasterResponse.db'}\")"
   ]
  },
  {
   "cell_type": "code",
   "execution_count": 1,
   "metadata": {},
   "outputs": [],
   "source": [
    "def load_data(database_filepath):\n",
    "    \"\"\"\n",
    "    Load data from SQLite database.\n",
    "    \n",
    "    Args:\n",
    "    database_filepath: str. Filepath for the SQLite database.\n",
    "    \n",
    "    Returns:\n",
    "    X: DataFrame. Features dataset.\n",
    "    Y: DataFrame. Labels dataset.\n",
    "    category_names: list. List of category names.\n",
    "    \"\"\"\n",
    "    engine = create_engine(f'sqlite:///{database_filepath}')\n",
    "    df = pd.read_sql_table('MessagesCategories', engine)\n",
    "    \n",
    "    # Replace inf values with NaN and drop rows with NaN values\n",
    "    df = df.replace([np.inf, -np.inf], np.nan)\n",
    "    df = df.dropna()\n",
    "\n",
    "    X = df['message']\n",
    "    Y = df.drop(['id', 'message', 'original', 'genre'], axis=1)\n",
    "    category_names = Y.columns.tolist()\n",
    "    return X, Y, category_names"
   ]
  },
  {
   "cell_type": "markdown",
   "metadata": {},
   "source": [
    "### 2. Write a tokenization function to process your text data"
   ]
  },
  {
   "cell_type": "code",
   "execution_count": 3,
   "metadata": {},
   "outputs": [],
   "source": [
    "def tokenize(text):\n",
    "    \n",
    "    \"\"\"\n",
    "    Function to tokenize text.\n",
    "    \"\"\"\n",
    "    \n",
    "    tokens = word_tokenize(text)\n",
    "    lemmatizer = WordNetLemmatizer()\n",
    "    \n",
    "    clean_tokens=[]\n",
    "    for tok in tokens:\n",
    "        clean_tok = lemmatizer.lemmatize(tok).lower().strip()\n",
    "        clean_tokens.append(clean_tok)\n",
    "        \n",
    "    return clean_tokens"
   ]
  },
  {
   "cell_type": "code",
   "execution_count": 4,
   "metadata": {},
   "outputs": [
    {
     "name": "stdout",
     "output_type": "stream",
     "text": [
      "['this', 'is', 'an', 'example', 'sentence', ',', 'testing', 'the', 'tokenization', '.']\n"
     ]
    }
   ],
   "source": [
    "# Here I would like to test the tokenaiztation \n",
    "example_text = \"This is an example sentence, testing the tokenization.\"\n",
    "tokens = tokenize(example_text)\n",
    "print(tokens)"
   ]
  },
  {
   "cell_type": "markdown",
   "metadata": {},
   "source": [
    "### 3. Build a machine learning pipeline\n",
    "This machine pipeline should take in the `message` column as input and output classification results on the other 36 categories in the dataset. You may find the [MultiOutputClassifier](http://scikit-learn.org/stable/modules/generated/sklearn.multioutput.MultiOutputClassifier.html) helpful for predicting multiple target variables."
   ]
  },
  {
   "cell_type": "code",
   "execution_count": 2,
   "metadata": {},
   "outputs": [],
   "source": [
    "# Define multioutput accuracy function\n",
    "def multioutput_accuracy_score(y_true, y_pred):\n",
    "    \"\"\"\n",
    "    Compute multioutput accuracy.\n",
    "    \n",
    "    Args:\n",
    "    y_true: array-like of shape (n_samples, n_outputs)\n",
    "        True values for predictions.\n",
    "    y_pred: array-like of shape (n_samples, n_outputs)\n",
    "        Predicted values.\n",
    "        \n",
    "    Returns:\n",
    "    accuracy: float\n",
    "        Average accuracy across all outputs.\n",
    "    \"\"\"\n",
    "    return np.mean(np.equal(y_true, y_pred))"
   ]
  },
  {
   "cell_type": "code",
   "execution_count": 3,
   "metadata": {},
   "outputs": [],
   "source": [
    "# Define function to build the model\n",
    "def build_model():\n",
    "    \"\"\"\n",
    "    Build a machine learning pipeline with GridSearchCV.\n",
    "    \n",
    "    Returns:\n",
    "    model: GridSearchCV. Grid search model object.\n",
    "    \"\"\"\n",
    "    pipeline = Pipeline([\n",
    "        ('vect', CountVectorizer(tokenizer=tokenize)),  \n",
    "        ('tfidf', TfidfTransformer()),\n",
    "        ('clf', MultiOutputClassifier(RandomForestClassifier()))\n",
    "    ])\n",
    "    \n",
    "    parameters = {\n",
    "        'clf__estimator__n_estimators': [5]\n",
    "    }\n",
    "\n",
    "    scorer = make_scorer(multioutput_accuracy_score)\n",
    "    \n",
    "    model = GridSearchCV(pipeline, param_grid=parameters, scoring=scorer, verbose=2, n_jobs=-1)\n",
    "\n",
    "    return model"
   ]
  },
  {
   "cell_type": "code",
   "execution_count": 5,
   "metadata": {},
   "outputs": [],
   "source": [
    "pipeline = Pipeline([\n",
    "    ('vect', CountVectorizer(tokenizer=tokenize)),  # To tokenize text using CountVectorizer method\n",
    "    ('tfidf', TfidfTransformer()),  # Apply transformation\n",
    "    ('clf', MultiOutputClassifier(RandomForestClassifier()))  # Multi-output classifier using RandomForestClassifier\n",
    "])"
   ]
  },
  {
   "cell_type": "markdown",
   "metadata": {},
   "source": [
    "### 4. Train pipeline\n",
    "- Split data into train and test sets\n",
    "- Train pipeline"
   ]
  },
  {
   "cell_type": "code",
   "execution_count": 6,
   "metadata": {
    "scrolled": true
   },
   "outputs": [],
   "source": [
    "X_train, X_test, y_train, y_test = train_test_split(X, y, test_size=0.2, random_state=42)"
   ]
  },
  {
   "cell_type": "code",
   "execution_count": 7,
   "metadata": {},
   "outputs": [
    {
     "data": {
      "text/plain": [
       "Pipeline(memory=None,\n",
       "     steps=[('vect', CountVectorizer(analyzer='word', binary=False, decode_error='strict',\n",
       "        dtype=<class 'numpy.int64'>, encoding='utf-8', input='content',\n",
       "        lowercase=True, max_df=1.0, max_features=None, min_df=1,\n",
       "        ngram_range=(1, 1), preprocessor=None, stop_words=None,\n",
       "        strip...oob_score=False, random_state=None, verbose=0,\n",
       "            warm_start=False),\n",
       "           n_jobs=1))])"
      ]
     },
     "execution_count": 7,
     "metadata": {},
     "output_type": "execute_result"
    }
   ],
   "source": [
    "# train classifier\n",
    "pipeline.fit(X_train, y_train)"
   ]
  },
  {
   "cell_type": "markdown",
   "metadata": {},
   "source": [
    "### 5. Test your model\n",
    "Report the f1 score, precision and recall for each output category of the dataset. You can do this by iterating through the columns and calling sklearn's `classification_report` on each."
   ]
  },
  {
   "cell_type": "code",
   "execution_count": 8,
   "metadata": {},
   "outputs": [],
   "source": [
    "def f1_pre_acc_evaluation(y_true, y_pred):\n",
    "    \"\"\"\n",
    "    Function to evaluate F1 score, precision, and accuracy.\n",
    "    \"\"\"\n",
    "    # Calculate F1 score, precision, and accuracy\n",
    "    f1_score = classification_report(y_true, y_pred)\n",
    "    precision = precision_score(y_true, y_pred, average='weighted')\n",
    "    accuracy = accuracy_score(y_true, y_pred)\n",
    "    \n",
    "    # Return a formatted report\n",
    "    report = f\"F1 Score:\\n{f1_score}\\nPrecision: {precision}\\nAccuracy: {accuracy}\"\n",
    "    \n",
    "    return report"
   ]
  },
  {
   "cell_type": "code",
   "execution_count": 9,
   "metadata": {},
   "outputs": [
    {
     "name": "stdout",
     "output_type": "stream",
     "text": [
      "F1 Score:\n",
      "             precision    recall  f1-score   support\n",
      "\n",
      "          0       0.82      0.93      0.87      3959\n",
      "          1       0.80      0.37      0.51       902\n",
      "          2       0.00      0.00      0.00        25\n",
      "          3       0.75      0.52      0.62      2156\n",
      "          4       0.75      0.07      0.13       431\n",
      "          5       0.74      0.10      0.17       264\n",
      "          6       0.90      0.06      0.11       151\n",
      "          7       0.00      0.00      0.00       106\n",
      "          8       0.72      0.07      0.13       175\n",
      "          9       0.00      0.00      0.00         0\n",
      "         10       0.86      0.24      0.38       344\n",
      "         11       0.79      0.43      0.56       586\n",
      "         12       0.84      0.23      0.36       487\n",
      "         13       0.89      0.10      0.18        79\n",
      "         14       0.71      0.04      0.07       131\n",
      "         15       1.00      0.02      0.04        55\n",
      "         16       0.43      0.02      0.04       160\n",
      "         17       0.87      0.15      0.25       225\n",
      "         18       0.45      0.04      0.08       667\n",
      "         19       0.00      0.00      0.00       317\n",
      "         20       0.72      0.06      0.11       228\n",
      "         21       0.78      0.09      0.15       291\n",
      "         22       0.70      0.07      0.13       101\n",
      "         23       0.00      0.00      0.00        30\n",
      "         24       0.00      0.00      0.00        49\n",
      "         25       0.00      0.00      0.00        23\n",
      "         26       0.00      0.00      0.00        56\n",
      "         27       0.00      0.00      0.00       216\n",
      "         28       0.85      0.50      0.63      1467\n",
      "         29       0.90      0.19      0.31       414\n",
      "         30       0.79      0.38      0.51       516\n",
      "         31       0.00      0.00      0.00        55\n",
      "         32       0.91      0.49      0.64       493\n",
      "         33       0.88      0.06      0.11       118\n",
      "         34       0.56      0.03      0.06       265\n",
      "         35       0.79      0.32      0.46      1035\n",
      "\n",
      "avg / total       0.74      0.45      0.51     16577\n",
      "\n",
      "Precision: 0.7426787248782412\n",
      "Accuracy: 0.22378025355359202\n"
     ]
    },
    {
     "name": "stderr",
     "output_type": "stream",
     "text": [
      "/opt/conda/lib/python3.6/site-packages/sklearn/metrics/classification.py:1135: UndefinedMetricWarning: Precision and F-score are ill-defined and being set to 0.0 in labels with no predicted samples.\n",
      "  'precision', 'predicted', average, warn_for)\n",
      "/opt/conda/lib/python3.6/site-packages/sklearn/metrics/classification.py:1137: UndefinedMetricWarning: Recall and F-score are ill-defined and being set to 0.0 in labels with no true samples.\n",
      "  'recall', 'true', average, warn_for)\n",
      "/opt/conda/lib/python3.6/site-packages/sklearn/metrics/classification.py:1135: UndefinedMetricWarning: Precision is ill-defined and being set to 0.0 in labels with no predicted samples.\n",
      "  'precision', 'predicted', average, warn_for)\n"
     ]
    }
   ],
   "source": [
    "# Make predictions\n",
    "y_pred = pipeline.predict(X_test)\n",
    "\n",
    "# Convert predictions to a DataFrame\n",
    "y_pred_df = pd.DataFrame(y_pred, columns=y_test.columns)\n",
    "\n",
    "# Generate report\n",
    "report = f1_pre_acc_evaluation(y_test, y_pred_df)\n",
    "print(report)"
   ]
  },
  {
   "cell_type": "markdown",
   "metadata": {},
   "source": [
    "### 6. Improve your model\n",
    "Use grid search to find better parameters. "
   ]
  },
  {
   "cell_type": "code",
   "execution_count": 10,
   "metadata": {},
   "outputs": [],
   "source": [
    "# Get parameters for the pipeline model\n",
    "params = pipeline.get_params()"
   ]
  },
  {
   "cell_type": "code",
   "execution_count": 11,
   "metadata": {},
   "outputs": [
    {
     "name": "stdout",
     "output_type": "stream",
     "text": [
      "Parameters for the pipeline model:\n",
      "{'memory': None, 'steps': [('vect', CountVectorizer(analyzer='word', binary=False, decode_error='strict',\n",
      "        dtype=<class 'numpy.int64'>, encoding='utf-8', input='content',\n",
      "        lowercase=True, max_df=1.0, max_features=None, min_df=1,\n",
      "        ngram_range=(1, 1), preprocessor=None, stop_words=None,\n",
      "        strip_accents=None, token_pattern='(?u)\\\\b\\\\w\\\\w+\\\\b',\n",
      "        tokenizer=<function tokenize at 0x7c83505e0048>, vocabulary=None)), ('tfidf', TfidfTransformer(norm='l2', smooth_idf=True, sublinear_tf=False, use_idf=True)), ('clf', MultiOutputClassifier(estimator=RandomForestClassifier(bootstrap=True, class_weight=None, criterion='gini',\n",
      "            max_depth=None, max_features='auto', max_leaf_nodes=None,\n",
      "            min_impurity_decrease=0.0, min_impurity_split=None,\n",
      "            min_samples_leaf=1, min_samples_split=2,\n",
      "            min_weight_fraction_leaf=0.0, n_estimators=10, n_jobs=1,\n",
      "            oob_score=False, random_state=None, verbose=0,\n",
      "            warm_start=False),\n",
      "           n_jobs=1))], 'vect': CountVectorizer(analyzer='word', binary=False, decode_error='strict',\n",
      "        dtype=<class 'numpy.int64'>, encoding='utf-8', input='content',\n",
      "        lowercase=True, max_df=1.0, max_features=None, min_df=1,\n",
      "        ngram_range=(1, 1), preprocessor=None, stop_words=None,\n",
      "        strip_accents=None, token_pattern='(?u)\\\\b\\\\w\\\\w+\\\\b',\n",
      "        tokenizer=<function tokenize at 0x7c83505e0048>, vocabulary=None), 'tfidf': TfidfTransformer(norm='l2', smooth_idf=True, sublinear_tf=False, use_idf=True), 'clf': MultiOutputClassifier(estimator=RandomForestClassifier(bootstrap=True, class_weight=None, criterion='gini',\n",
      "            max_depth=None, max_features='auto', max_leaf_nodes=None,\n",
      "            min_impurity_decrease=0.0, min_impurity_split=None,\n",
      "            min_samples_leaf=1, min_samples_split=2,\n",
      "            min_weight_fraction_leaf=0.0, n_estimators=10, n_jobs=1,\n",
      "            oob_score=False, random_state=None, verbose=0,\n",
      "            warm_start=False),\n",
      "           n_jobs=1), 'vect__analyzer': 'word', 'vect__binary': False, 'vect__decode_error': 'strict', 'vect__dtype': <class 'numpy.int64'>, 'vect__encoding': 'utf-8', 'vect__input': 'content', 'vect__lowercase': True, 'vect__max_df': 1.0, 'vect__max_features': None, 'vect__min_df': 1, 'vect__ngram_range': (1, 1), 'vect__preprocessor': None, 'vect__stop_words': None, 'vect__strip_accents': None, 'vect__token_pattern': '(?u)\\\\b\\\\w\\\\w+\\\\b', 'vect__tokenizer': <function tokenize at 0x7c83505e0048>, 'vect__vocabulary': None, 'tfidf__norm': 'l2', 'tfidf__smooth_idf': True, 'tfidf__sublinear_tf': False, 'tfidf__use_idf': True, 'clf__estimator__bootstrap': True, 'clf__estimator__class_weight': None, 'clf__estimator__criterion': 'gini', 'clf__estimator__max_depth': None, 'clf__estimator__max_features': 'auto', 'clf__estimator__max_leaf_nodes': None, 'clf__estimator__min_impurity_decrease': 0.0, 'clf__estimator__min_impurity_split': None, 'clf__estimator__min_samples_leaf': 1, 'clf__estimator__min_samples_split': 2, 'clf__estimator__min_weight_fraction_leaf': 0.0, 'clf__estimator__n_estimators': 10, 'clf__estimator__n_jobs': 1, 'clf__estimator__oob_score': False, 'clf__estimator__random_state': None, 'clf__estimator__verbose': 0, 'clf__estimator__warm_start': False, 'clf__estimator': RandomForestClassifier(bootstrap=True, class_weight=None, criterion='gini',\n",
      "            max_depth=None, max_features='auto', max_leaf_nodes=None,\n",
      "            min_impurity_decrease=0.0, min_impurity_split=None,\n",
      "            min_samples_leaf=1, min_samples_split=2,\n",
      "            min_weight_fraction_leaf=0.0, n_estimators=10, n_jobs=1,\n",
      "            oob_score=False, random_state=None, verbose=0,\n",
      "            warm_start=False), 'clf__n_jobs': 1}\n"
     ]
    }
   ],
   "source": [
    "# Print the parameters\n",
    "print(\"Parameters for the pipeline model:\")\n",
    "print(params)"
   ]
  },
  {
   "cell_type": "code",
   "execution_count": 13,
   "metadata": {},
   "outputs": [],
   "source": [
    "from sklearn.metrics import make_scorer, accuracy_score\n",
    "# Define the scorer\n",
    "scorer = make_scorer(accuracy_score)\n",
    "\n",
    "# Define the reduced parameters for grid search\n",
    "parameters = {\n",
    "    'clf__estimator__n_estimators' : [5]\n",
    "}\n",
    "\n",
    "# Create GridSearchCV object\n",
    "cv = GridSearchCV(pipeline, param_grid=parameters, scoring=scorer, verbose=2, n_jobs=-1)"
   ]
  },
  {
   "cell_type": "code",
   "execution_count": 14,
   "metadata": {},
   "outputs": [
    {
     "name": "stdout",
     "output_type": "stream",
     "text": [
      "Fitting 3 folds for each of 1 candidates, totalling 3 fits\n",
      "[CV] clf__estimator__n_estimators=5 ..................................\n",
      "[CV] clf__estimator__n_estimators=5 ..................................\n",
      "[CV] clf__estimator__n_estimators=5 ..................................\n",
      "[CV] ................... clf__estimator__n_estimators=5, total= 1.5min\n",
      "[CV] ................... clf__estimator__n_estimators=5, total= 1.5min\n",
      "[CV] ................... clf__estimator__n_estimators=5, total= 1.6min\n"
     ]
    },
    {
     "name": "stderr",
     "output_type": "stream",
     "text": [
      "[Parallel(n_jobs=-1)]: Done   3 out of   3 | elapsed:  1.9min finished\n"
     ]
    },
    {
     "data": {
      "text/plain": [
       "GridSearchCV(cv=None, error_score='raise',\n",
       "       estimator=Pipeline(memory=None,\n",
       "     steps=[('vect', CountVectorizer(analyzer='word', binary=False, decode_error='strict',\n",
       "        dtype=<class 'numpy.int64'>, encoding='utf-8', input='content',\n",
       "        lowercase=True, max_df=1.0, max_features=None, min_df=1,\n",
       "        ngram_range=(1, 1), preprocessor=None, stop_words=None,\n",
       "        strip...oob_score=False, random_state=None, verbose=0,\n",
       "            warm_start=False),\n",
       "           n_jobs=1))]),\n",
       "       fit_params=None, iid=True, n_jobs=-1,\n",
       "       param_grid={'clf__estimator__n_estimators': [5]},\n",
       "       pre_dispatch='2*n_jobs', refit=True, return_train_score='warn',\n",
       "       scoring=make_scorer(accuracy_score), verbose=2)"
      ]
     },
     "execution_count": 14,
     "metadata": {},
     "output_type": "execute_result"
    }
   ],
   "source": [
    "# Fit the model\n",
    "cv.fit(X_train, y_train)"
   ]
  },
  {
   "cell_type": "code",
   "execution_count": 15,
   "metadata": {},
   "outputs": [],
   "source": [
    "# Get the best parameters and best score\n",
    "best_params = cv.best_params_\n",
    "best_score = cv.best_score_"
   ]
  },
  {
   "cell_type": "code",
   "execution_count": 16,
   "metadata": {},
   "outputs": [
    {
     "name": "stdout",
     "output_type": "stream",
     "text": [
      "Best Parameters:\n",
      "{'clf__estimator__n_estimators': 5}\n",
      "\n",
      "Best Score:\n",
      "0.175583517433\n"
     ]
    }
   ],
   "source": [
    "print(\"Best Parameters:\")\n",
    "print(best_params)\n",
    "print(\"\\nBest Score:\")\n",
    "print(best_score)"
   ]
  },
  {
   "cell_type": "markdown",
   "metadata": {},
   "source": [
    "### 7. Test your model\n",
    "Show the accuracy, precision, and recall of the tuned model.  \n",
    "\n",
    "Since this project focuses on code quality, process, and  pipelines, there is no minimum performance metric needed to pass. However, make sure to fine tune your models for accuracy, precision and recall to make your project stand out - especially for your portfolio!"
   ]
  },
  {
   "cell_type": "code",
   "execution_count": 17,
   "metadata": {},
   "outputs": [],
   "source": [
    "# Evaluate the model\n",
    "def evaluate_model(model, X_test, y_test):\n",
    "    y_pred = model.predict(X_test)\n",
    "    for column in y_test.columns:\n",
    "        print(column)\n",
    "        print(classification_report(y_test[column], y_pred[:, y_test.columns.get_loc(column)]))\n",
    "    return y_pred\n",
    "\n",
    "def f1_pre_acc_evaluation(y_true, y_pred):\n",
    "    f1 = f1_score(y_true, y_pred, average='weighted')\n",
    "    precision = precision_score(y_true, y_pred, average='weighted')\n",
    "    accuracy = accuracy_score(y_true, y_pred)\n",
    "    report = {\n",
    "        'F1 Score': f1,\n",
    "        'Precision': precision,\n",
    "        'Accuracy': accuracy\n",
    "    }\n",
    "    return report"
   ]
  },
  {
   "cell_type": "code",
   "execution_count": 18,
   "metadata": {},
   "outputs": [
    {
     "name": "stdout",
     "output_type": "stream",
     "text": [
      "related\n",
      "             precision    recall  f1-score   support\n",
      "\n",
      "          0       0.60      0.31      0.41      1247\n",
      "          1       0.81      0.94      0.87      3959\n",
      "\n",
      "avg / total       0.76      0.79      0.76      5206\n",
      "\n",
      "request\n",
      "             precision    recall  f1-score   support\n",
      "\n",
      "          0       0.89      0.96      0.93      4304\n",
      "          1       0.71      0.43      0.54       902\n",
      "\n",
      "avg / total       0.86      0.87      0.86      5206\n",
      "\n",
      "offer\n",
      "             precision    recall  f1-score   support\n",
      "\n",
      "          0       1.00      1.00      1.00      5181\n",
      "          1       0.00      0.00      0.00        25\n",
      "\n",
      "avg / total       0.99      1.00      0.99      5206\n",
      "\n",
      "aid_related\n",
      "             precision    recall  f1-score   support\n",
      "\n",
      "          0       0.74      0.80      0.77      3050\n",
      "          1       0.69      0.61      0.65      2156\n",
      "\n",
      "avg / total       0.72      0.72      0.72      5206\n",
      "\n",
      "medical_help\n",
      "             precision    recall  f1-score   support\n",
      "\n",
      "          0       0.93      0.99      0.96      4775\n",
      "          1       0.54      0.14      0.22       431\n",
      "\n",
      "avg / total       0.89      0.92      0.90      5206\n",
      "\n",
      "medical_products\n",
      "             precision    recall  f1-score   support\n",
      "\n",
      "          0       0.95      1.00      0.97      4942\n",
      "          1       0.54      0.11      0.18       264\n",
      "\n",
      "avg / total       0.93      0.95      0.93      5206\n",
      "\n",
      "search_and_rescue\n",
      "             precision    recall  f1-score   support\n",
      "\n",
      "          0       0.97      1.00      0.99      5055\n",
      "          1       0.53      0.11      0.18       151\n",
      "\n",
      "avg / total       0.96      0.97      0.96      5206\n",
      "\n",
      "security\n",
      "             precision    recall  f1-score   support\n",
      "\n",
      "          0       0.98      1.00      0.99      5100\n",
      "          1       0.12      0.01      0.02       106\n",
      "\n",
      "avg / total       0.96      0.98      0.97      5206\n",
      "\n",
      "military\n",
      "             precision    recall  f1-score   support\n",
      "\n",
      "          0       0.97      1.00      0.98      5031\n",
      "          1       0.62      0.14      0.23       175\n",
      "\n",
      "avg / total       0.96      0.97      0.96      5206\n",
      "\n",
      "child_alone\n",
      "             precision    recall  f1-score   support\n",
      "\n",
      "          0       1.00      1.00      1.00      5206\n",
      "\n",
      "avg / total       1.00      1.00      1.00      5206\n",
      "\n",
      "water\n",
      "             precision    recall  f1-score   support\n",
      "\n",
      "          0       0.95      0.99      0.97      4862\n",
      "          1       0.72      0.28      0.40       344\n",
      "\n",
      "avg / total       0.94      0.95      0.93      5206\n",
      "\n",
      "food\n",
      "             precision    recall  f1-score   support\n",
      "\n",
      "          0       0.94      0.98      0.96      4620\n",
      "          1       0.73      0.51      0.60       586\n",
      "\n",
      "avg / total       0.92      0.92      0.92      5206\n",
      "\n",
      "shelter\n",
      "             precision    recall  f1-score   support\n",
      "\n",
      "          0       0.94      0.99      0.96      4719\n",
      "          1       0.74      0.33      0.46       487\n",
      "\n",
      "avg / total       0.92      0.93      0.91      5206\n",
      "\n",
      "clothing\n",
      "             precision    recall  f1-score   support\n",
      "\n",
      "          0       0.99      1.00      0.99      5127\n",
      "          1       0.65      0.16      0.26        79\n",
      "\n",
      "avg / total       0.98      0.99      0.98      5206\n",
      "\n",
      "money\n",
      "             precision    recall  f1-score   support\n",
      "\n",
      "          0       0.98      1.00      0.99      5075\n",
      "          1       0.56      0.07      0.12       131\n",
      "\n",
      "avg / total       0.97      0.98      0.97      5206\n",
      "\n",
      "missing_people\n",
      "             precision    recall  f1-score   support\n",
      "\n",
      "          0       0.99      1.00      0.99      5151\n",
      "          1       0.29      0.04      0.06        55\n",
      "\n",
      "avg / total       0.98      0.99      0.98      5206\n",
      "\n",
      "refugees\n",
      "             precision    recall  f1-score   support\n",
      "\n",
      "          0       0.97      1.00      0.98      5046\n",
      "          1       0.40      0.06      0.11       160\n",
      "\n",
      "avg / total       0.95      0.97      0.96      5206\n",
      "\n",
      "death\n",
      "             precision    recall  f1-score   support\n",
      "\n",
      "          0       0.96      1.00      0.98      4981\n",
      "          1       0.68      0.17      0.28       225\n",
      "\n",
      "avg / total       0.95      0.96      0.95      5206\n",
      "\n",
      "other_aid\n",
      "             precision    recall  f1-score   support\n",
      "\n",
      "          0       0.88      0.98      0.93      4539\n",
      "          1       0.35      0.08      0.13       667\n",
      "\n",
      "avg / total       0.81      0.86      0.82      5206\n",
      "\n",
      "infrastructure_related\n",
      "             precision    recall  f1-score   support\n",
      "\n",
      "          0       0.94      0.99      0.97      4889\n",
      "          1       0.13      0.02      0.03       317\n",
      "\n",
      "avg / total       0.89      0.93      0.91      5206\n",
      "\n",
      "transport\n",
      "             precision    recall  f1-score   support\n",
      "\n",
      "          0       0.96      0.99      0.98      4978\n",
      "          1       0.35      0.06      0.10       228\n",
      "\n",
      "avg / total       0.93      0.95      0.94      5206\n",
      "\n",
      "buildings\n",
      "             precision    recall  f1-score   support\n",
      "\n",
      "          0       0.95      0.99      0.97      4915\n",
      "          1       0.62      0.16      0.26       291\n",
      "\n",
      "avg / total       0.93      0.95      0.93      5206\n",
      "\n",
      "electricity\n",
      "             precision    recall  f1-score   support\n",
      "\n",
      "          0       0.98      1.00      0.99      5105\n",
      "          1       0.35      0.06      0.10       101\n",
      "\n",
      "avg / total       0.97      0.98      0.97      5206\n",
      "\n",
      "tools\n",
      "             precision    recall  f1-score   support\n",
      "\n",
      "          0       0.99      1.00      1.00      5176\n",
      "          1       0.00      0.00      0.00        30\n",
      "\n",
      "avg / total       0.99      0.99      0.99      5206\n",
      "\n",
      "hospitals\n",
      "             precision    recall  f1-score   support\n",
      "\n",
      "          0       0.99      1.00      1.00      5157\n",
      "          1       0.00      0.00      0.00        49\n",
      "\n",
      "avg / total       0.98      0.99      0.99      5206\n",
      "\n",
      "shops\n",
      "             precision    recall  f1-score   support\n",
      "\n",
      "          0       1.00      1.00      1.00      5183\n",
      "          1       0.00      0.00      0.00        23\n",
      "\n",
      "avg / total       0.99      1.00      0.99      5206\n",
      "\n",
      "aid_centers\n",
      "             precision    recall  f1-score   support\n",
      "\n",
      "          0       0.99      1.00      0.99      5150\n",
      "          1       0.00      0.00      0.00        56\n",
      "\n",
      "avg / total       0.98      0.99      0.98      5206\n",
      "\n",
      "other_infrastructure\n",
      "             precision    recall  f1-score   support\n",
      "\n",
      "          0       0.96      1.00      0.98      4990\n",
      "          1       0.19      0.02      0.04       216\n",
      "\n",
      "avg / total       0.93      0.96      0.94      5206\n",
      "\n",
      "weather_related\n",
      "             precision    recall  f1-score   support\n",
      "\n",
      "          0       0.85      0.93      0.89      3739\n",
      "          1       0.77      0.59      0.67      1467\n",
      "\n",
      "avg / total       0.83      0.84      0.83      5206\n",
      "\n",
      "floods\n",
      "             precision    recall  f1-score   support\n",
      "\n",
      "          0       0.94      0.99      0.97      4792\n",
      "          1       0.78      0.33      0.46       414\n",
      "\n",
      "avg / total       0.93      0.94      0.93      5206\n",
      "\n",
      "storm\n",
      "             precision    recall  f1-score   support\n",
      "\n",
      "          0       0.93      0.98      0.96      4690\n",
      "          1       0.72      0.37      0.49       516\n",
      "\n",
      "avg / total       0.91      0.92      0.91      5206\n",
      "\n",
      "fire\n",
      "             precision    recall  f1-score   support\n",
      "\n",
      "          0       0.99      1.00      0.99      5151\n",
      "          1       0.14      0.02      0.03        55\n",
      "\n",
      "avg / total       0.98      0.99      0.98      5206\n",
      "\n",
      "earthquake\n",
      "             precision    recall  f1-score   support\n",
      "\n",
      "          0       0.96      0.99      0.98      4713\n",
      "          1       0.87      0.62      0.73       493\n",
      "\n",
      "avg / total       0.95      0.96      0.95      5206\n",
      "\n",
      "cold\n",
      "             precision    recall  f1-score   support\n",
      "\n",
      "          0       0.98      1.00      0.99      5088\n",
      "          1       0.56      0.08      0.15       118\n",
      "\n",
      "avg / total       0.97      0.98      0.97      5206\n",
      "\n",
      "other_weather\n",
      "             precision    recall  f1-score   support\n",
      "\n",
      "          0       0.95      1.00      0.97      4941\n",
      "          1       0.48      0.05      0.10       265\n",
      "\n",
      "avg / total       0.93      0.95      0.93      5206\n",
      "\n",
      "direct_report\n",
      "             precision    recall  f1-score   support\n",
      "\n",
      "          0       0.86      0.96      0.91      4171\n",
      "          1       0.68      0.36      0.47      1035\n",
      "\n",
      "avg / total       0.82      0.84      0.82      5206\n",
      "\n"
     ]
    },
    {
     "name": "stderr",
     "output_type": "stream",
     "text": [
      "/opt/conda/lib/python3.6/site-packages/sklearn/metrics/classification.py:1135: UndefinedMetricWarning: Precision and F-score are ill-defined and being set to 0.0 in labels with no predicted samples.\n",
      "  'precision', 'predicted', average, warn_for)\n"
     ]
    }
   ],
   "source": [
    "# Evaluate the model\n",
    "y_pred = evaluate_model(cv, X_test, y_test)"
   ]
  },
  {
   "cell_type": "code",
   "execution_count": 20,
   "metadata": {},
   "outputs": [
    {
     "name": "stdout",
     "output_type": "stream",
     "text": [
      "Overall Metrics:\n",
      "F1 Score: 0.5364\n",
      "Precision: 0.6679\n",
      "Accuracy: 0.1806\n"
     ]
    },
    {
     "name": "stderr",
     "output_type": "stream",
     "text": [
      "/opt/conda/lib/python3.6/site-packages/sklearn/metrics/classification.py:1135: UndefinedMetricWarning: F-score is ill-defined and being set to 0.0 in labels with no predicted samples.\n",
      "  'precision', 'predicted', average, warn_for)\n",
      "/opt/conda/lib/python3.6/site-packages/sklearn/metrics/classification.py:1137: UndefinedMetricWarning: F-score is ill-defined and being set to 0.0 in labels with no true samples.\n",
      "  'recall', 'true', average, warn_for)\n",
      "/opt/conda/lib/python3.6/site-packages/sklearn/metrics/classification.py:1135: UndefinedMetricWarning: Precision is ill-defined and being set to 0.0 in labels with no predicted samples.\n",
      "  'precision', 'predicted', average, warn_for)\n"
     ]
    }
   ],
   "source": [
    "from sklearn.metrics import classification_report, f1_score, precision_score, accuracy_score\n",
    "# Calculate and print overall metrics\n",
    "overall_report = f1_pre_acc_evaluation(y_test, y_pred)\n",
    "print(\"Overall Metrics:\")\n",
    "for metric, score in overall_report.items():\n",
    "    print(f\"{metric}: {score:.4f}\")"
   ]
  },
  {
   "cell_type": "markdown",
   "metadata": {},
   "source": [
    "Based on shown result above, here is an interpretation of the results:\n",
    "- F1 Score: A score of (0.5364) suggests that the balance between precision and recall is moderate but could be improved.\n",
    "\n",
    "- Precision: A precision of (0.6679) means that approximately 67% of the model's positive predictions are correct.\n",
    "\n",
    "- Accuracy: An accuracy of (0.1806) suggests that the model correctly classifies about 18% of the instances, which is relatively low and indicates room for significant improvement."
   ]
  },
  {
   "cell_type": "markdown",
   "metadata": {},
   "source": [
    "### 8. Try improving your model further. Here are a few ideas:\n",
    "* try other machine learning algorithms\n",
    "* add other features besides the TF-IDF"
   ]
  },
  {
   "cell_type": "markdown",
   "metadata": {},
   "source": [
    "### 9. Export your model as a pickle file"
   ]
  },
  {
   "cell_type": "code",
   "execution_count": 21,
   "metadata": {},
   "outputs": [],
   "source": [
    "# Save the best model from GridSearchCV as a pickle file\n",
    "with open('disaster_response_model.pkl', 'wb') as file:\n",
    "    pickle.dump(cv.best_estimator_, file)"
   ]
  },
  {
   "cell_type": "markdown",
   "metadata": {},
   "source": [
    "### 10. Use this notebook to complete `train_classifier.py`\n",
    "Use the template file attached in the Resources folder to write a script that runs the steps above to create a database and export a model based on a new dataset specified by the user."
   ]
  },
  {
   "cell_type": "code",
   "execution_count": null,
   "metadata": {},
   "outputs": [],
   "source": []
  }
 ],
 "metadata": {
  "kernelspec": {
   "display_name": "Python 3",
   "language": "python",
   "name": "python3"
  },
  "language_info": {
   "codemirror_mode": {
    "name": "ipython",
    "version": 3
   },
   "file_extension": ".py",
   "mimetype": "text/x-python",
   "name": "python",
   "nbconvert_exporter": "python",
   "pygments_lexer": "ipython3",
   "version": "3.6.3"
  }
 },
 "nbformat": 4,
 "nbformat_minor": 2
}
